{
 "cells": [
  {
   "cell_type": "markdown",
   "id": "3245499b-c604-4265-a55d-55de815935dc",
   "metadata": {},
   "source": [
    "# Installing Requirements Packages"
   ]
  },
  {
   "cell_type": "markdown",
   "id": "4f29fdbb-4080-4fdb-a211-6324ef7f9b1c",
   "metadata": {},
   "source": [
    "#### one-time set up of Bioconda with the following commands."
   ]
  },
  {
   "cell_type": "code",
   "execution_count": null,
   "id": "5d79cc0f-358d-460d-9834-a5f341b60e04",
   "metadata": {},
   "outputs": [],
   "source": [
    "!conda config --add channels defaults\n",
    "!conda config --add channels bioconda\n",
    "!conda config --add channels conda-forge\n",
    "!conda config --set channel_priority strict"
   ]
  },
  {
   "cell_type": "markdown",
   "id": "6cc242b1-5b7e-4047-b5fb-bd22ab1dcff6",
   "metadata": {},
   "source": [
    "#### Install the following packages in conda environments\n"
   ]
  },
  {
   "cell_type": "code",
   "execution_count": null,
   "id": "04bea8d2-91d2-4b86-9878-4d50d40d61a2",
   "metadata": {},
   "outputs": [],
   "source": [
    "# Install mamba in the base conda environment\n",
    "# Note: This step might be optional, as mamba is not always necessary\n",
    "!conda install -n base --override-channels -c conda-forge mamba 'python_abi=*=*cp*'\n",
    " "
   ]
  },
  {
   "cell_type": "code",
   "execution_count": null,
   "id": "c1ceef06-8dff-44c0-8913-1e849c23d1e4",
   "metadata": {},
   "outputs": [],
   "source": [
    "# Install the ete3 package using conda\n",
    "!conda install ete3 --quiet --yes\n",
    "\n",
    "!conda install -c conda-forge biopython\n",
    "\n",
    "# Install the centrifuge package from the bioconda channel using conda\n",
    "!conda install bioconda::centrifuge\n",
    "\n",
    "\n",
    "# Install r-remotes and bioconductor-rsamtools using mamba\n",
    "!mamba install --yes --quiet r-remotes bioconductor-rsamtools\n",
    "\n",
    "# Install ipywidgets using pip\n",
    "!pip install ipywidgets\n",
    "\n",
    "!pip install epi2melabs"
   ]
  },
  {
   "cell_type": "code",
   "execution_count": null,
   "id": "3178f1a8-d3c9-4c80-a6cb-ac3954fabf4d",
   "metadata": {},
   "outputs": [],
   "source": []
  },
  {
   "cell_type": "code",
   "execution_count": null,
   "id": "00cdbd57-28fb-4c31-8b63-f30a19a11847",
   "metadata": {},
   "outputs": [],
   "source": []
  },
  {
   "cell_type": "markdown",
   "id": "6d180c48-cba3-458b-a1d8-d602b099f329",
   "metadata": {},
   "source": [
    "# Downloading data "
   ]
  },
  {
   "cell_type": "code",
   "execution_count": 4,
   "id": "f656ce45-7280-45f6-8c60-5a7d8296f9c2",
   "metadata": {
    "tags": []
   },
   "outputs": [
    {
     "name": "stdout",
     "output_type": "stream",
     "text": [
      "--2024-03-05 19:47:37--  https://osf.io/g5at8/download\n",
      "Resolving osf.io (osf.io)... 35.190.84.173\n",
      "Connecting to osf.io (osf.io)|35.190.84.173|:443... connected.\n",
      "HTTP request sent, awaiting response... 302 FOUND\n",
      "Location: https://files.au-1.osf.io/v1/resources/gry6e/providers/osfstorage/5e4daa9c1949df0191563b5f?action=download&direct&version=1 [following]\n",
      "--2024-03-05 19:47:37--  https://files.au-1.osf.io/v1/resources/gry6e/providers/osfstorage/5e4daa9c1949df0191563b5f?action=download&direct&version=1\n",
      "Resolving files.au-1.osf.io (files.au-1.osf.io)... 35.241.28.215\n",
      "Connecting to files.au-1.osf.io (files.au-1.osf.io)|35.241.28.215|:443... connected.\n",
      "HTTP request sent, awaiting response... 200 OK\n",
      "Length: 235807592 (225M) [application/octet-stream]\n",
      "Saving to: ‘mappings.tar.gz’\n",
      "\n",
      "mappings.tar.gz     100%[===================>] 224.88M  13.9MB/s    in 18s     \n",
      "\n",
      "2024-03-05 19:47:57 (12.8 MB/s) - ‘mappings.tar.gz’ saved [235807592/235807592]\n",
      "\n"
     ]
    }
   ],
   "source": [
    "!wget -O mappings.tar.gz https://osf.io/g5at8/download\n"
   ]
  },
  {
   "cell_type": "code",
   "execution_count": 5,
   "id": "7427ffd2-3173-46c3-91b8-525fd173d6ee",
   "metadata": {
    "tags": []
   },
   "outputs": [
    {
     "name": "stdout",
     "output_type": "stream",
     "text": [
      "tar: Ignoring unknown extended header keyword 'SCHILY.dev'\n",
      "tar: Ignoring unknown extended header keyword 'SCHILY.ino'\n",
      "tar: Ignoring unknown extended header keyword 'SCHILY.nlink'\n",
      "mappings/evol1.sorted.dedup.q20.bam\n",
      "tar: Ignoring unknown extended header keyword 'SCHILY.dev'\n",
      "tar: Ignoring unknown extended header keyword 'SCHILY.ino'\n",
      "tar: Ignoring unknown extended header keyword 'SCHILY.nlink'\n",
      "mappings/evol1.sorted.unmapped.R1.fastq.gz\n",
      "tar: Ignoring unknown extended header keyword 'SCHILY.dev'\n",
      "tar: Ignoring unknown extended header keyword 'SCHILY.ino'\n",
      "tar: Ignoring unknown extended header keyword 'SCHILY.nlink'\n",
      "mappings/evol1.sorted.unmapped.R2.fastq.gz\n",
      "tar: Ignoring unknown extended header keyword 'SCHILY.dev'\n",
      "tar: Ignoring unknown extended header keyword 'SCHILY.ino'\n",
      "tar: Ignoring unknown extended header keyword 'SCHILY.nlink'\n",
      "mappings/evol2.sorted.dedup.q20.bam\n"
     ]
    }
   ],
   "source": [
    "!tar xvzf mappings.tar.gz"
   ]
  },
  {
   "cell_type": "code",
   "execution_count": null,
   "id": "d87de6a8-d9cb-455f-aba5-a7bf731c8624",
   "metadata": {
    "tags": []
   },
   "outputs": [],
   "source": [
    "!gunzip mappings/evol1.sorted.unmapped.R1.fastq.gz"
   ]
  },
  {
   "cell_type": "markdown",
   "id": "93ac2fcb-0b4b-421f-a513-db87f7654ad6",
   "metadata": {},
   "source": [
    "# Downloading Centrifuge Index\n",
    "\n",
    " h+p+v+c: human genome, prokaryotic genomes, and viral genomes including SARS-CoV-2 genomes."
   ]
  },
  {
   "cell_type": "code",
   "execution_count": 9,
   "id": "cd9ff9c1-0233-4f39-9fed-ff48095aa07e",
   "metadata": {},
   "outputs": [
    {
     "name": "stdout",
     "output_type": "stream",
     "text": [
      "--2024-03-05 22:21:39--  https://zenodo.org/records/3732127/files/h+p+v+c.tar.gz\n",
      "Resolving zenodo.org (zenodo.org)... 188.184.103.159, 188.184.98.238, 188.185.79.172, ...\n",
      "Connecting to zenodo.org (zenodo.org)|188.184.103.159|:443... connected.\n",
      "HTTP request sent, awaiting response... 200 OK\n",
      "Length: 20737377933 (19G) [application/octet-stream]\n",
      "Saving to: ‘h+p+v+c.tar.gz’\n",
      "\n",
      "h+p+v+c.tar.gz      100%[===================>]  19.31G  13.1MB/s    in 26m 6s  \n",
      "\n",
      "2024-03-05 22:47:47 (12.6 MB/s) - ‘h+p+v+c.tar.gz’ saved [20737377933/20737377933]\n",
      "\n"
     ]
    }
   ],
   "source": [
    "!wget https://zenodo.org/records/3732127/files/h+p+v+c.tar.gz\n"
   ]
  },
  {
   "cell_type": "code",
   "execution_count": 7,
   "id": "b443c67f-ed15-420f-8670-cd7f5d054be6",
   "metadata": {},
   "outputs": [
    {
     "name": "stdout",
     "output_type": "stream",
     "text": [
      "hpvc.1.cf\n",
      "hpvc.2.cf\n",
      "hpvc.3.cf\n",
      "hpvc.4.cf\n"
     ]
    }
   ],
   "source": [
    "!tar -xvzf h+p+v+c.tar.gz"
   ]
  },
  {
   "cell_type": "code",
   "execution_count": 5,
   "id": "3dbd3e4f-c86d-417c-95a8-7f181f21e318",
   "metadata": {
    "tags": []
   },
   "outputs": [],
   "source": []
  },
  {
   "cell_type": "markdown",
   "id": "7d0cb377-ad28-47b4-af9f-5e6851da57c8",
   "metadata": {},
   "source": [
    "# Run Centrifuge"
   ]
  },
  {
   "cell_type": "code",
   "execution_count": null,
   "id": "b094e532-e8ef-461a-87bc-e095244ad8ed",
   "metadata": {},
   "outputs": [],
   "source": []
  },
  {
   "cell_type": "code",
   "execution_count": 17,
   "id": "118bb4a7-f23e-4a0c-baf6-3e58c75ec9bf",
   "metadata": {},
   "outputs": [],
   "source": [
    "!centrifuge -x hpvc -U mappings/evol1.sorted.unmapped.R1.fastq --report-file report1.txt -S results1.txt"
   ]
  },
  {
   "cell_type": "code",
   "execution_count": null,
   "id": "3a1f9317-a200-4502-94d8-4b02708b5add",
   "metadata": {},
   "outputs": [],
   "source": []
  },
  {
   "cell_type": "code",
   "execution_count": null,
   "id": "377b95bf-edb8-45ec-8098-b0b73a4f3dc2",
   "metadata": {},
   "outputs": [],
   "source": []
  },
  {
   "cell_type": "code",
   "execution_count": null,
   "id": "ef1e3d7a-bc6c-4abc-9d69-dd42d2314453",
   "metadata": {
    "tags": []
   },
   "outputs": [],
   "source": []
  },
  {
   "cell_type": "code",
   "execution_count": 7,
   "id": "673db3f8-6c0c-405c-8a5e-254fc594f92c",
   "metadata": {
    "tags": []
   },
   "outputs": [
    {
     "name": "stderr",
     "output_type": "stream",
     "text": [
      "  3%|██████▏                                                                                                                                                                                                             | 4/137 [00:02<01:31,  1.46it/s]"
     ]
    },
    {
     "name": "stdout",
     "output_type": "stream",
     "text": [
      "Error fetching taxonomic info: HTTP Error 400: Bad Request\n"
     ]
    },
    {
     "name": "stderr",
     "output_type": "stream",
     "text": [
      "  4%|█████████▎                                                                                                                                                                                                          | 6/137 [00:04<02:02,  1.07it/s]"
     ]
    },
    {
     "name": "stdout",
     "output_type": "stream",
     "text": [
      "Error fetching taxonomic info: HTTP Error 400: Bad Request\n"
     ]
    },
    {
     "name": "stderr",
     "output_type": "stream",
     "text": [
      " 45%|█████████████████████████████████████████████████████████████████████████████████████████████▉                                                                                                                     | 61/137 [00:30<00:47,  1.61it/s]"
     ]
    },
    {
     "name": "stdout",
     "output_type": "stream",
     "text": [
      "Error fetching taxonomic info: HTTP Error 400: Bad Request\n"
     ]
    },
    {
     "name": "stderr",
     "output_type": "stream",
     "text": [
      " 45%|███████████████████████████████████████████████████████████████████████████████████████████████▍                                                                                                                   | 62/137 [00:32<01:05,  1.15it/s]"
     ]
    },
    {
     "name": "stdout",
     "output_type": "stream",
     "text": [
      "Error fetching taxonomic info: HTTP Error 400: Bad Request\n"
     ]
    },
    {
     "name": "stderr",
     "output_type": "stream",
     "text": [
      " 48%|█████████████████████████████████████████████████████████████████████████████████████████████████████▋                                                                                                             | 66/137 [00:34<00:42,  1.69it/s]"
     ]
    },
    {
     "name": "stdout",
     "output_type": "stream",
     "text": [
      "Error fetching taxonomic info: HTTP Error 400: Bad Request\n"
     ]
    },
    {
     "name": "stderr",
     "output_type": "stream",
     "text": [
      " 62%|██████████████████████████████████████████████████████████████████████████████████████████████████████████████████████████████████▉                                                                                | 85/137 [03:10<00:56,  1.08s/it]"
     ]
    },
    {
     "name": "stdout",
     "output_type": "stream",
     "text": [
      "Error fetching taxonomic info: HTTP Error 400: Bad Request\n"
     ]
    },
    {
     "name": "stderr",
     "output_type": "stream",
     "text": [
      " 76%|███████████████████████████████████████████████████████████████████████████████████████████████████████████████████████████████████████████████████████████████▍                                                  | 104/137 [03:21<00:25,  1.29it/s]"
     ]
    },
    {
     "name": "stdout",
     "output_type": "stream",
     "text": [
      "Error fetching taxonomic info: HTTP Error 400: Bad Request\n"
     ]
    },
    {
     "name": "stderr",
     "output_type": "stream",
     "text": [
      " 82%|█████████████████████████████████████████████████████████████████████████████████████████████████████████████████████████████████████████████████████████████████████████████▏                                    | 113/137 [03:25<00:15,  1.56it/s]"
     ]
    },
    {
     "name": "stdout",
     "output_type": "stream",
     "text": [
      "Error fetching taxonomic info: HTTP Error 400: Bad Request\n"
     ]
    },
    {
     "name": "stderr",
     "output_type": "stream",
     "text": [
      " 83%|██████████████████████████████████████████████████████████████████████████████████████████████████████████████████████████████████████████████████████████████████████████████▋                                   | 114/137 [03:26<00:17,  1.31it/s]"
     ]
    },
    {
     "name": "stdout",
     "output_type": "stream",
     "text": [
      "Error fetching taxonomic info: HTTP Error 400: Bad Request\n"
     ]
    },
    {
     "name": "stderr",
     "output_type": "stream",
     "text": [
      " 85%|█████████████████████████████████████████████████████████████████████████████████████████████████████████████████████████████████████████████████████████████████████████████████▊                                | 116/137 [03:27<00:13,  1.53it/s]"
     ]
    },
    {
     "name": "stdout",
     "output_type": "stream",
     "text": [
      "Error fetching taxonomic info: HTTP Error 400: Bad Request\n"
     ]
    },
    {
     "name": "stderr",
     "output_type": "stream",
     "text": [
      " 91%|██████████████████████████████████████████████████████████████████████████████████████████████████████████████████████████████████████████████████████████████████████████████████████████████                    | 124/137 [03:31<00:08,  1.57it/s]"
     ]
    },
    {
     "name": "stdout",
     "output_type": "stream",
     "text": [
      "Error fetching taxonomic info: HTTP Error 400: Bad Request\n"
     ]
    },
    {
     "name": "stderr",
     "output_type": "stream",
     "text": [
      " 93%|████████████████████████████████████████████████████████████████████████████████████████████████████████████████████████████████████████████████████████████████████████████████████████████████████▏             | 128/137 [03:34<00:06,  1.35it/s]"
     ]
    },
    {
     "name": "stdout",
     "output_type": "stream",
     "text": [
      "Error fetching taxonomic info: HTTP Error 400: Bad Request\n"
     ]
    },
    {
     "name": "stderr",
     "output_type": "stream",
     "text": [
      "100%|██████████████████████████████████████████████████████████████████████████████████████████████████████████████████████████████████████████████████████████████████████████████████████████████████████████████████| 137/137 [03:39<00:00,  1.60s/it]"
     ]
    },
    {
     "name": "stdout",
     "output_type": "stream",
     "text": [
      "Error fetching taxonomic info: HTTP Error 400: Bad Request\n",
      "21 genera identified with >1 reads.\n"
     ]
    },
    {
     "name": "stderr",
     "output_type": "stream",
     "text": [
      "\n"
     ]
    },
    {
     "data": {
      "text/html": [
       "<div>\n",
       "<style scoped>\n",
       "    .dataframe tbody tr th:only-of-type {\n",
       "        vertical-align: middle;\n",
       "    }\n",
       "\n",
       "    .dataframe tbody tr th {\n",
       "        vertical-align: top;\n",
       "    }\n",
       "\n",
       "    .dataframe thead th {\n",
       "        text-align: right;\n",
       "    }\n",
       "</style>\n",
       "<table border=\"1\" class=\"dataframe\">\n",
       "  <thead>\n",
       "    <tr style=\"text-align: right;\">\n",
       "      <th></th>\n",
       "      <th>genus</th>\n",
       "      <th>numReads</th>\n",
       "    </tr>\n",
       "  </thead>\n",
       "  <tbody>\n",
       "    <tr>\n",
       "      <th>0</th>\n",
       "      <td>Shigella</td>\n",
       "      <td>463</td>\n",
       "    </tr>\n",
       "    <tr>\n",
       "      <th>1</th>\n",
       "      <td>Escherichia</td>\n",
       "      <td>458</td>\n",
       "    </tr>\n",
       "    <tr>\n",
       "      <th>2</th>\n",
       "      <td>Salmonella</td>\n",
       "      <td>70</td>\n",
       "    </tr>\n",
       "    <tr>\n",
       "      <th>3</th>\n",
       "      <td>Homo</td>\n",
       "      <td>44</td>\n",
       "    </tr>\n",
       "    <tr>\n",
       "      <th>4</th>\n",
       "      <td>Pseudomonas</td>\n",
       "      <td>11</td>\n",
       "    </tr>\n",
       "    <tr>\n",
       "      <th>5</th>\n",
       "      <td>Klebsiella</td>\n",
       "      <td>11</td>\n",
       "    </tr>\n",
       "    <tr>\n",
       "      <th>6</th>\n",
       "      <td>Enterobacter</td>\n",
       "      <td>11</td>\n",
       "    </tr>\n",
       "    <tr>\n",
       "      <th>7</th>\n",
       "      <td>Staphylococcus</td>\n",
       "      <td>9</td>\n",
       "    </tr>\n",
       "  </tbody>\n",
       "</table>\n",
       "</div>"
      ],
      "text/plain": [
       "            genus  numReads\n",
       "0        Shigella       463\n",
       "1     Escherichia       458\n",
       "2      Salmonella        70\n",
       "3            Homo        44\n",
       "4     Pseudomonas        11\n",
       "5      Klebsiella        11\n",
       "6    Enterobacter        11\n",
       "7  Staphylococcus         9"
      ]
     },
     "metadata": {},
     "output_type": "display_data"
    }
   ],
   "source": [
    "from Bio import Entrez\n",
    "import pandas as pd\n",
    "import os\n",
    "from tqdm import tqdm\n",
    "from IPython.display import display\n",
    "\n",
    "# Set your email address for the NCBI server\n",
    "Entrez.email = \"your_email@example.com\"\n",
    "\n",
    "def fetch_taxa(taxid_list):\n",
    "\n",
    "    try:\n",
    "        # fetch taxa\n",
    "        handle = Entrez.efetch('taxonomy', id=taxid_list, rettype='xml')\n",
    "        response = Entrez.read(handle)\n",
    "\n",
    "        # filter response\n",
    "        classified_taxonomy = {}\n",
    "        for index, entry in enumerate(response):\n",
    "            # no lineage in keys\n",
    "            if 'LineageEx' not in entry.keys():\n",
    "                classified_taxonomy[index] = \"No_Taxa\"\n",
    "                continue\n",
    "            # this can be modified\n",
    "            taxa_dict = {}\n",
    "            for taxa_class in entry[\"LineageEx\"]:\n",
    "                taxa_dict[taxa_class[\"Rank\"]] = taxa_class[\"ScientificName\"]\n",
    "            classified_taxonomy[entry['TaxId']] = taxa_dict\n",
    "\n",
    "        return classified_taxonomy\n",
    "    except Exception as e:\n",
    "        print(f\"Error fetching taxonomic info: {e}\")\n",
    "        return None\n",
    "\n",
    "\n",
    "d = pd.read_csv(os.path.join(\"report.txt\"), sep='\\t')\n",
    "\n",
    "lineage = []\n",
    "\n",
    "# Get unique TaxIDs from the DataFrame\n",
    "unique_taxIDs = d['taxID'].unique()\n",
    "\n",
    "for taxid in tqdm(unique_taxIDs):\n",
    "    taxonomic_info = fetch_taxa([taxid])\n",
    "\n",
    "    if taxonomic_info:\n",
    "        lineage.append(taxonomic_info)\n",
    "\n",
    "# Create a DataFrame to map unique TaxIDs to Genus names\n",
    "\n",
    "# Flatten the list of dictionaries\n",
    "flattened_list = [{'tax_id': key, **value} for entry in lineage for key, value in entry.items()]\n",
    "\n",
    "# Create a DataFrame from the flattened list\n",
    "mapping_df = pd.DataFrame(flattened_list)\n",
    "mapping_df['taxID'] = mapping_df['tax_id'].astype('int64') \n",
    "\n",
    "# Merge the mapping DataFrame with the original DataFrame\n",
    "result_df = pd.merge(d, mapping_df, on='taxID', how='left')\n",
    "\n",
    "# Group by the mapped genus column\n",
    "genus_id = result_df.groupby('genus') \\\n",
    "    .agg(numReads=('numReads', 'sum')) \\\n",
    "    .sort_values('numReads', ascending=False) \\\n",
    "    .reset_index()\n",
    "\n",
    "read_filter = 1\n",
    "common_genera = sum(genus_id['numReads'] > read_filter)\n",
    "\n",
    "print(\"{} genera identified with >{} reads.\".format(common_genera, read_filter))\n",
    "display(genus_id.head(8))\n",
    "# printit  # This line might be a mistake; check if you need it\n",
    "\n"
   ]
  },
  {
   "cell_type": "code",
   "execution_count": null,
   "id": "a934dd43-7731-41cc-acb2-805006349b2f",
   "metadata": {
    "tags": []
   },
   "outputs": [],
   "source": []
  },
  {
   "cell_type": "markdown",
   "id": "1fbae32c-06f3-4a34-81e7-96b436861cfb",
   "metadata": {
    "tags": []
   },
   "source": [
    "# Run Pavian "
   ]
  },
  {
   "cell_type": "code",
   "execution_count": null,
   "id": "af496f54-f5ea-4554-ab67-486f825e3102",
   "metadata": {},
   "outputs": [],
   "source": []
  },
  {
   "cell_type": "code",
   "execution_count": 8,
   "id": "2bec1ff7-49f4-42f5-861a-88f853f5b802",
   "metadata": {
    "tags": []
   },
   "outputs": [
    {
     "name": "stdout",
     "output_type": "stream",
     "text": [
      "Loading taxonomy ...\n",
      "Loading names file ...\n",
      "/home/sr3622/miniconda3/bin/centrifuge-inspect:24: DeprecationWarning: the imp module is deprecated in favour of importlib and slated for removal in Python 3.12; see the module's documentation for alternative uses\n",
      "  import imp\n",
      "Loading nodes file ...\n",
      "/home/sr3622/miniconda3/bin/centrifuge-inspect:24: DeprecationWarning: the imp module is deprecated in favour of importlib and slated for removal in Python 3.12; see the module's documentation for alternative uses\n",
      "  import imp\n"
     ]
    }
   ],
   "source": [
    "!centrifuge-kreport -x hpvc  results.txt > read_classifications.tsv.kraken"
   ]
  },
  {
   "cell_type": "code",
   "execution_count": 13,
   "id": "27fcdd18-7b2c-400b-a240-91e8767aca3c",
   "metadata": {},
   "outputs": [
    {
     "data": {
      "application/vnd.jupyter.widget-view+json": {
       "model_id": "bfd0465c79a04bb896957cff5ccec969",
       "version_major": 2,
       "version_minor": 0
      },
      "text/plain": [
       "VBox(children=(HBox(children=(Label(value='Aux. EPI2ME Labs port', layout=Layout(width='150px')), interactive(…"
      ]
     },
     "metadata": {},
     "output_type": "display_data"
    }
   ],
   "source": [
    "import ipywidgets as widgets\n",
    "from epi2melabs.notebook import InputForm, InputSpec\n",
    "\n",
    "pavian_form = InputForm(\n",
    "    InputSpec('port', 'Aux. EPI2ME Labs port', widgets.IntText(8889)))\n",
    "pavian_form.display()"
   ]
  },
  {
   "cell_type": "code",
   "execution_count": null,
   "id": "eec4cf36-ee1c-4df8-a10c-acb982604a58",
   "metadata": {},
   "outputs": [
    {
     "name": "stdout",
     "output_type": "stream",
     "text": [
      "Done.\n",
      "Running pavian...\n",
      "\n",
      "R version 4.3.3 (2024-02-29) -- \"Angel Food Cake\"\n",
      "Copyright (C) 2024 The R Foundation for Statistical Computing\n",
      "Platform: x86_64-conda-linux-gnu (64-bit)\n",
      "\n",
      "R is free software and comes with ABSOLUTELY NO WARRANTY.\n",
      "You are welcome to redistribute it under certain conditions.\n",
      "Type 'license()' or 'licence()' for distribution details.\n",
      "\n",
      "  Natural language support but running in an English locale\n",
      "\n",
      "R is a collaborative project with many contributors.\n",
      "Type 'contributors()' for more information and\n",
      "'citation()' on how to cite R or R packages in publications.\n",
      "\n",
      "Type 'demo()' for some demos, 'help()' for on-line help, or\n",
      "'help.start()' for an HTML browser interface to help.\n",
      "Type 'q()' to quit R.\n",
      "\n",
      "> pavian::runApp(host='0.0.0.0', port=8889)\n",
      "Loading required package: shiny\n",
      "\n",
      "Listening on http://0.0.0.0:8889\n",
      "[Mar06 21:20] Started new shiny session #1 (1 session(s) running)\n",
      "[Mar06 22:12] Exiting session #1\n"
     ]
    }
   ],
   "source": [
    "# running Pavian web server\n",
    "# !echo \"Checking pavian install...\"\n",
    "\n",
    "script = \"\"\"\n",
    "ncpus=parallel::detectCores()\n",
    "options(Ncpus=ncpus)\n",
    "remotes::install_github(\"fbreitwieser/pavian\", upgrade=T, quiet=T)\"\"\"\n",
    "_script = os.path.expanduser(\"~/.pavian_install.R\")\n",
    "with open(_script, \"w\") as fh:\n",
    "    fh.write(script)\n",
    "!Rscript $_script\n",
    "!echo \"Done.\"\n",
    "!echo \"Running pavian...\"\n",
    "port = pavian_form.port\n",
    "!R -e \"pavian::runApp(host='0.0.0.0', port=\"$port\")\""
   ]
  },
  {
   "cell_type": "code",
   "execution_count": null,
   "id": "70487ac7-1a81-4235-ad8c-a3626fcf85f3",
   "metadata": {},
   "outputs": [],
   "source": [
    " "
   ]
  },
  {
   "cell_type": "code",
   "execution_count": null,
   "id": "a83d982d-ecfd-4731-898e-21ed2957f003",
   "metadata": {},
   "outputs": [],
   "source": []
  }
 ],
 "metadata": {
  "kernelspec": {
   "display_name": "Python 3 (ipykernel)",
   "language": "python",
   "name": "python3"
  },
  "language_info": {
   "codemirror_mode": {
    "name": "ipython",
    "version": 3
   },
   "file_extension": ".py",
   "mimetype": "text/x-python",
   "name": "python",
   "nbconvert_exporter": "python",
   "pygments_lexer": "ipython3",
   "version": "3.11.8"
  }
 },
 "nbformat": 4,
 "nbformat_minor": 5
}
